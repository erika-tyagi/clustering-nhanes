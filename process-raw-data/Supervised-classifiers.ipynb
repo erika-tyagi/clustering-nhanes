{
 "cells": [
  {
   "cell_type": "markdown",
   "metadata": {},
   "source": [
    "# Supervised learning leveraging cluster outcomes"
   ]
  },
  {
   "cell_type": "markdown",
   "metadata": {},
   "source": [
    "## Load the data and import pipeline package "
   ]
  },
  {
   "cell_type": "code",
   "execution_count": 1,
   "metadata": {},
   "outputs": [],
   "source": [
    "import pipeline #a package we have previously written + will use some functions from\n",
    "import pandas as pd\n",
    "import sklearn\n",
    "from sklearn.ensemble import RandomForestClassifier\n",
    "import warnings\n",
    "import matplotlib.pyplot as plt\n",
    "import numpy as np\n",
    "from sklearn.metrics import accuracy_score\n",
    "from sklearn.svm import SVC\n",
    "from os import path\n",
    "from IPython.display import Image\n",
    "import pipeline\n",
    "from sklearn.externals.six import StringIO\n",
    "from sklearn.tree import export_graphviz\n",
    "import pydotplus\n",
    "from sklearn.tree import DecisionTreeClassifier\n",
    "import sk_models # a script we wrote to run classifiers below\n",
    "\n",
    "warnings.simplefilter(\"ignore\")\n",
    "pd.set_option('display.max_columns', None)"
   ]
  },
  {
   "cell_type": "code",
   "execution_count": 2,
   "metadata": {},
   "outputs": [],
   "source": [
    "#This comes from the output of our clustering analysis\n",
    "df = pd.read_csv('clustered_data.csv')"
   ]
  },
  {
   "cell_type": "code",
   "execution_count": 3,
   "metadata": {
    "scrolled": false
   },
   "outputs": [
    {
     "data": {
      "text/html": [
       "<div>\n",
       "<style scoped>\n",
       "    .dataframe tbody tr th:only-of-type {\n",
       "        vertical-align: middle;\n",
       "    }\n",
       "\n",
       "    .dataframe tbody tr th {\n",
       "        vertical-align: top;\n",
       "    }\n",
       "\n",
       "    .dataframe thead th {\n",
       "        text-align: right;\n",
       "    }\n",
       "</style>\n",
       "<table border=\"1\" class=\"dataframe\">\n",
       "  <thead>\n",
       "    <tr style=\"text-align: right;\">\n",
       "      <th></th>\n",
       "      <th>year</th>\n",
       "      <th>SEQN</th>\n",
       "      <th>BMXBMI</th>\n",
       "      <th>BPQ020</th>\n",
       "      <th>RIDAGEYR</th>\n",
       "      <th>RIAGENDR</th>\n",
       "      <th>INDFMPIR</th>\n",
       "      <th>RIDRETH1</th>\n",
       "      <th>TKCAL</th>\n",
       "      <th>TPROT</th>\n",
       "      <th>TCARB</th>\n",
       "      <th>TSUGR</th>\n",
       "      <th>TTFAT</th>\n",
       "      <th>PC1</th>\n",
       "      <th>PC2</th>\n",
       "      <th>PC3</th>\n",
       "      <th>PC4</th>\n",
       "      <th>PC5</th>\n",
       "      <th>PC6</th>\n",
       "      <th>PC7</th>\n",
       "      <th>PC8</th>\n",
       "      <th>PC9</th>\n",
       "      <th>PC10</th>\n",
       "      <th>PC11</th>\n",
       "      <th>PC12</th>\n",
       "      <th>PC13</th>\n",
       "      <th>PC14</th>\n",
       "      <th>PC15</th>\n",
       "      <th>PC16</th>\n",
       "      <th>PC17</th>\n",
       "      <th>PC18</th>\n",
       "      <th>PC19</th>\n",
       "      <th>PC20</th>\n",
       "      <th>assignment_kmeans</th>\n",
       "    </tr>\n",
       "  </thead>\n",
       "  <tbody>\n",
       "    <tr>\n",
       "      <th>0</th>\n",
       "      <td>2007-2008</td>\n",
       "      <td>41475</td>\n",
       "      <td>58.04</td>\n",
       "      <td>1</td>\n",
       "      <td>62</td>\n",
       "      <td>2</td>\n",
       "      <td>1.83</td>\n",
       "      <td>5</td>\n",
       "      <td>3057</td>\n",
       "      <td>139.31</td>\n",
       "      <td>348.69</td>\n",
       "      <td>160.48</td>\n",
       "      <td>125.33</td>\n",
       "      <td>-1.617823</td>\n",
       "      <td>1.919746</td>\n",
       "      <td>0.455475</td>\n",
       "      <td>-0.172202</td>\n",
       "      <td>0.297086</td>\n",
       "      <td>2.514255</td>\n",
       "      <td>-0.836439</td>\n",
       "      <td>-1.447478</td>\n",
       "      <td>1.210543</td>\n",
       "      <td>0.014087</td>\n",
       "      <td>3.585609</td>\n",
       "      <td>-1.442924</td>\n",
       "      <td>1.06467</td>\n",
       "      <td>-0.591428</td>\n",
       "      <td>1.113903</td>\n",
       "      <td>1.035296</td>\n",
       "      <td>-0.094012</td>\n",
       "      <td>0.249038</td>\n",
       "      <td>0.889505</td>\n",
       "      <td>-1.001357</td>\n",
       "      <td>1</td>\n",
       "    </tr>\n",
       "  </tbody>\n",
       "</table>\n",
       "</div>"
      ],
      "text/plain": [
       "        year   SEQN  BMXBMI  BPQ020  RIDAGEYR  RIAGENDR  INDFMPIR  RIDRETH1  \\\n",
       "0  2007-2008  41475   58.04       1        62         2      1.83         5   \n",
       "\n",
       "   TKCAL   TPROT   TCARB   TSUGR   TTFAT       PC1       PC2       PC3  \\\n",
       "0   3057  139.31  348.69  160.48  125.33 -1.617823  1.919746  0.455475   \n",
       "\n",
       "        PC4       PC5       PC6       PC7       PC8       PC9      PC10  \\\n",
       "0 -0.172202  0.297086  2.514255 -0.836439 -1.447478  1.210543  0.014087   \n",
       "\n",
       "       PC11      PC12     PC13      PC14      PC15      PC16      PC17  \\\n",
       "0  3.585609 -1.442924  1.06467 -0.591428  1.113903  1.035296 -0.094012   \n",
       "\n",
       "       PC18      PC19      PC20  assignment_kmeans  \n",
       "0  0.249038  0.889505 -1.001357                  1  "
      ]
     },
     "execution_count": 3,
     "metadata": {},
     "output_type": "execute_result"
    }
   ],
   "source": [
    "df.head(1)"
   ]
  },
  {
   "cell_type": "code",
   "execution_count": 4,
   "metadata": {},
   "outputs": [],
   "source": [
    "#Initial exploration\n",
    "#for col in df.columns:\n",
    " #   print(col,\": \", type(col))"
   ]
  },
  {
   "cell_type": "code",
   "execution_count": 5,
   "metadata": {},
   "outputs": [],
   "source": [
    "#Split the data using sklearn's default 80/20\n",
    "(train, test) = sklearn.model_selection.train_test_split(df)"
   ]
  },
  {
   "cell_type": "code",
   "execution_count": 6,
   "metadata": {},
   "outputs": [],
   "source": [
    "#Clean the datasets - updated package + included parameters for this dataset\n",
    "clean_train, clean_test = pipeline.clean_split((train, test))"
   ]
  },
  {
   "cell_type": "code",
   "execution_count": 7,
   "metadata": {},
   "outputs": [
    {
     "data": {
      "text/html": [
       "<div>\n",
       "<style scoped>\n",
       "    .dataframe tbody tr th:only-of-type {\n",
       "        vertical-align: middle;\n",
       "    }\n",
       "\n",
       "    .dataframe tbody tr th {\n",
       "        vertical-align: top;\n",
       "    }\n",
       "\n",
       "    .dataframe thead th {\n",
       "        text-align: right;\n",
       "    }\n",
       "</style>\n",
       "<table border=\"1\" class=\"dataframe\">\n",
       "  <thead>\n",
       "    <tr style=\"text-align: right;\">\n",
       "      <th></th>\n",
       "      <th>SEQN</th>\n",
       "      <th>cluster_1</th>\n",
       "      <th>has_had_hbp</th>\n",
       "      <th>is_obese</th>\n",
       "      <th>RIDAGEYR_scaled</th>\n",
       "      <th>INDFMPIR_scaled</th>\n",
       "      <th>RIAGENDR_1</th>\n",
       "      <th>RIAGENDR_2</th>\n",
       "      <th>RIDRETH1_1</th>\n",
       "      <th>RIDRETH1_2</th>\n",
       "      <th>RIDRETH1_3</th>\n",
       "      <th>RIDRETH1_4</th>\n",
       "      <th>RIDRETH1_5</th>\n",
       "    </tr>\n",
       "  </thead>\n",
       "  <tbody>\n",
       "    <tr>\n",
       "      <th>4650</th>\n",
       "      <td>58276</td>\n",
       "      <td>0</td>\n",
       "      <td>1</td>\n",
       "      <td>0</td>\n",
       "      <td>1.65614</td>\n",
       "      <td>0.101983</td>\n",
       "      <td>0</td>\n",
       "      <td>1</td>\n",
       "      <td>0</td>\n",
       "      <td>0</td>\n",
       "      <td>1</td>\n",
       "      <td>0</td>\n",
       "      <td>0</td>\n",
       "    </tr>\n",
       "  </tbody>\n",
       "</table>\n",
       "</div>"
      ],
      "text/plain": [
       "       SEQN  cluster_1  has_had_hbp  is_obese  RIDAGEYR_scaled  \\\n",
       "4650  58276          0            1         0          1.65614   \n",
       "\n",
       "      INDFMPIR_scaled  RIAGENDR_1  RIAGENDR_2  RIDRETH1_1  RIDRETH1_2  \\\n",
       "4650         0.101983           0           1           0           0   \n",
       "\n",
       "      RIDRETH1_3  RIDRETH1_4  RIDRETH1_5  \n",
       "4650           1           0           0  "
      ]
     },
     "execution_count": 7,
     "metadata": {},
     "output_type": "execute_result"
    }
   ],
   "source": [
    "clean_train.head(1)"
   ]
  },
  {
   "cell_type": "code",
   "execution_count": 8,
   "metadata": {},
   "outputs": [
    {
     "data": {
      "text/plain": [
       "Index(['SEQN', 'cluster_1', 'has_had_hbp', 'is_obese', 'RIDAGEYR_scaled',\n",
       "       'INDFMPIR_scaled', 'RIAGENDR_1', 'RIAGENDR_2', 'RIDRETH1_1',\n",
       "       'RIDRETH1_2', 'RIDRETH1_3', 'RIDRETH1_4', 'RIDRETH1_5'],\n",
       "      dtype='object')"
      ]
     },
     "execution_count": 8,
     "metadata": {},
     "output_type": "execute_result"
    }
   ],
   "source": [
    "#Checking columns\n",
    "clean_train.columns"
   ]
  },
  {
   "cell_type": "code",
   "execution_count": 9,
   "metadata": {},
   "outputs": [],
   "source": [
    "#First let's grab BMI (obesity) as the output label - drop the vars and make obese the label\n",
    "\n",
    "clean_train['label'] = clean_train['is_obese']\n",
    "clean_train_o = clean_train.drop(['has_had_hbp','is_obese'], axis=1)\n",
    "\n",
    "clean_test['label'] = clean_test['is_obese']\n",
    "clean_test_o = clean_test.drop(['has_had_hbp','is_obese'], axis=1)\n"
   ]
  },
  {
   "cell_type": "code",
   "execution_count": 10,
   "metadata": {},
   "outputs": [],
   "source": [
    "#Now let's grab blood pressure - drop the vars and make high blood pressure the label\n",
    "\n",
    "clean_train['label'] = clean_train['has_had_hbp']\n",
    "clean_train_b = clean_train.drop(['has_had_hbp','is_obese'], axis=1)\n",
    "\n",
    "clean_test['label'] = clean_test['has_had_hbp']\n",
    "clean_test_b = clean_test.drop(['has_had_hbp','is_obese'], axis=1)"
   ]
  },
  {
   "cell_type": "code",
   "execution_count": 11,
   "metadata": {},
   "outputs": [
    {
     "data": {
      "text/plain": [
       "Index(['SEQN', 'cluster_1', 'RIDAGEYR_scaled', 'INDFMPIR_scaled', 'RIAGENDR_1',\n",
       "       'RIAGENDR_2', 'RIDRETH1_1', 'RIDRETH1_2', 'RIDRETH1_3', 'RIDRETH1_4',\n",
       "       'RIDRETH1_5', 'label'],\n",
       "      dtype='object')"
      ]
     },
     "execution_count": 11,
     "metadata": {},
     "output_type": "execute_result"
    }
   ],
   "source": [
    "#col_check\n",
    "clean_test_b.columns"
   ]
  },
  {
   "cell_type": "code",
   "execution_count": 12,
   "metadata": {},
   "outputs": [],
   "source": [
    "#Now let's make dfs leveraging components instead of cluster assignments\n",
    "\n",
    "clean_train_pca, clean_test_pca = pipeline.clean_split((train, test), components=True)\n",
    "\n",
    "clean_train_pca['label'] = clean_train_pca['is_obese']\n",
    "clean_train_o_pca = clean_train_pca.drop(['has_had_hbp','is_obese'], axis=1)\n",
    "\n",
    "clean_test_pca['label'] = clean_test_pca['is_obese']\n",
    "clean_test_o_pca = clean_test_pca.drop(['has_had_hbp','is_obese'], axis=1)"
   ]
  },
  {
   "cell_type": "code",
   "execution_count": 13,
   "metadata": {},
   "outputs": [],
   "source": [
    "#Now let's make dfs leveraging components instead of cluster assignments\n",
    "\n",
    "clean_train_pca, clean_test_pca = pipeline.clean_split((train, test), components=True)\n",
    "\n",
    "clean_train_pca['label'] = clean_train_pca['has_had_hbp']\n",
    "clean_train_b_pca = clean_train_pca.drop(['has_had_hbp','is_obese'], axis=1)\n",
    "\n",
    "clean_test_pca['label'] = clean_test_pca['has_had_hbp']\n",
    "clean_test_b_pca = clean_test_pca.drop(['has_had_hbp','is_obese'], axis=1)"
   ]
  },
  {
   "cell_type": "code",
   "execution_count": 14,
   "metadata": {},
   "outputs": [
    {
     "data": {
      "text/plain": [
       "Index(['SEQN', 'cluster_1', 'RIDAGEYR_scaled', 'INDFMPIR_scaled', 'PC1_scaled',\n",
       "       'PC2_scaled', 'PC3_scaled', 'PC4_scaled', 'PC5_scaled', 'PC6_scaled',\n",
       "       'PC7_scaled', 'PC8_scaled', 'PC9_scaled', 'PC10_scaled', 'PC11_scaled',\n",
       "       'PC12_scaled', 'PC13_scaled', 'PC14_scaled', 'PC15_scaled',\n",
       "       'PC16_scaled', 'PC17_scaled', 'PC18_scaled', 'PC19_scaled',\n",
       "       'PC20_scaled', 'RIAGENDR_1', 'RIAGENDR_2', 'RIDRETH1_1', 'RIDRETH1_2',\n",
       "       'RIDRETH1_3', 'RIDRETH1_4', 'RIDRETH1_5', 'label'],\n",
       "      dtype='object')"
      ]
     },
     "execution_count": 14,
     "metadata": {},
     "output_type": "execute_result"
    }
   ],
   "source": [
    "#col_check\n",
    "clean_test_o_pca.columns"
   ]
  },
  {
   "cell_type": "markdown",
   "metadata": {},
   "source": [
    "## Run models for predicting obesity "
   ]
  },
  {
   "cell_type": "code",
   "execution_count": 15,
   "metadata": {},
   "outputs": [
    {
     "data": {
      "text/plain": [
       "(array([0.4, 1. , 0.8, ..., 0.5, 0.1, 0. ]),\n",
       " array([0, 1, 0, ..., 0, 0, 0]),\n",
       " 0.6471652593486128)"
      ]
     },
     "execution_count": 15,
     "metadata": {},
     "output_type": "execute_result"
    }
   ],
   "source": [
    "#Obesity - using cluster, rf\n",
    "sk_models.run_rf_model(clean_train_o, clean_test_o, ['label'], list(clean_train_o.drop(['label'],axis=1).columns),\n",
    "          .8)"
   ]
  },
  {
   "cell_type": "code",
   "execution_count": 16,
   "metadata": {},
   "outputs": [
    {
     "data": {
      "text/plain": [
       "(array([0.36956239, 0.36252046, 0.36964425, ..., 0.37108617, 0.3694842 ,\n",
       "        0.3758116 ]), array([0, 0, 0, ..., 0, 0, 0]), 0.649577804583836)"
      ]
     },
     "execution_count": 16,
     "metadata": {},
     "output_type": "execute_result"
    }
   ],
   "source": [
    "#Obesity - using cluster, SVC\n",
    "sk_models.run_SVC_model(clean_train_o, clean_test_o, ['label'], list(clean_train_o.drop(['label'],axis=1).columns),\n",
    "          .8)"
   ]
  },
  {
   "cell_type": "code",
   "execution_count": 17,
   "metadata": {},
   "outputs": [
    {
     "data": {
      "text/plain": [
       "0.649577804583836"
      ]
     },
     "execution_count": 17,
     "metadata": {},
     "output_type": "execute_result"
    }
   ],
   "source": [
    "#Obesity - using cluster, stump decision tree\n",
    "o_tree, o_accuracy_t = sk_models.run_DT_model(clean_train_o, clean_test_o, ['label'], list(clean_train_o.drop(['label'],axis=1).columns),\n",
    "          .8)\n",
    "\n",
    "o_accuracy_t"
   ]
  },
  {
   "cell_type": "code",
   "execution_count": 18,
   "metadata": {},
   "outputs": [
    {
     "data": {
      "image/png": "[encoded data removed]",
      "text/plain": [
       "<IPython.core.display.Image object>"
      ]
     },
     "execution_count": 18,
     "metadata": {},
     "output_type": "execute_result"
    }
   ],
   "source": [
    "#Print tree\n",
    "col_names = list(clean_train_o.drop(columns=['label']).columns)\n",
    "dot_data = StringIO()\n",
    "export_graphviz(o_tree, out_file=dot_data, feature_names=col_names, special_characters=True)\n",
    "graph = pydotplus.graph_from_dot_data(dot_data.getvalue())  \n",
    "graph.write_png('stump_1.png')\n",
    "Image('stump_1.png')"
   ]
  },
  {
   "cell_type": "code",
   "execution_count": 19,
   "metadata": {},
   "outputs": [
    {
     "data": {
      "text/plain": [
       "(array([0.7, 0.1, 0.8, ..., 0.9, 0.5, 1. ]),\n",
       " array([0, 0, 0, ..., 1, 0, 1]),\n",
       " 0.7629674306393245)"
      ]
     },
     "execution_count": 19,
     "metadata": {},
     "output_type": "execute_result"
    }
   ],
   "source": [
    "#Obesity - using PCA factors, rf\n",
    "sk_models.run_rf_model(clean_train_o_pca, clean_test_o_pca, ['label'], list(clean_train_o_pca.drop(['label'],axis=1).columns),\n",
    "          .8)"
   ]
  },
  {
   "cell_type": "code",
   "execution_count": 20,
   "metadata": {},
   "outputs": [
    {
     "data": {
      "text/plain": [
       "(array([0.37191628, 0.3772634 , 0.38349758, ..., 0.37628293, 0.37966927,\n",
       "        0.36851458]), array([0, 0, 0, ..., 0, 0, 0]), 0.649577804583836)"
      ]
     },
     "execution_count": 20,
     "metadata": {},
     "output_type": "execute_result"
    }
   ],
   "source": [
    "#Obesity#Obesity - using PCA factors, SVC\n",
    "sk_models.run_SVC_model(clean_train_o_pca, clean_test_o_pca, ['label'], list(clean_train_o_pca.drop(['label'],axis=1).columns),\n",
    "          .8)"
   ]
  },
  {
   "cell_type": "code",
   "execution_count": 21,
   "metadata": {},
   "outputs": [
    {
     "data": {
      "text/plain": [
       "0.649577804583836"
      ]
     },
     "execution_count": 21,
     "metadata": {},
     "output_type": "execute_result"
    }
   ],
   "source": [
    "#Obesity - using PCA factors, stump decision tree\n",
    "o_tree_pca, o_accuracy_t_pca = sk_models.run_DT_model(clean_train_o_pca, clean_test_o_pca, ['label'], \n",
    "                                                      list(clean_train_o_pca.drop(['label'],axis=1).columns),.8)\n",
    "\n",
    "o_accuracy_t_pca"
   ]
  },
  {
   "cell_type": "code",
   "execution_count": 22,
   "metadata": {},
   "outputs": [
    {
     "data": {
      "image/png": "[encoded data removed]",
      "text/plain": [
       "<IPython.core.display.Image object>"
      ]
     },
     "execution_count": 22,
     "metadata": {},
     "output_type": "execute_result"
    }
   ],
   "source": [
    "#Print tree\n",
    "col_names = list(clean_train_o_pca.drop(columns=['label']).columns)\n",
    "dot_data = StringIO()\n",
    "export_graphviz(o_tree_pca, out_file=dot_data, feature_names=col_names, special_characters=True)\n",
    "graph = pydotplus.graph_from_dot_data(dot_data.getvalue())  \n",
    "graph.write_png('stump_1_pca.png')\n",
    "Image('stump_1_pca.png')"
   ]
  },
  {
   "cell_type": "markdown",
   "metadata": {},
   "source": [
    "## Run models for predicting high blood pressure"
   ]
  },
  {
   "cell_type": "code",
   "execution_count": 23,
   "metadata": {},
   "outputs": [
    {
     "data": {
      "text/plain": [
       "(array([0.6, 0.3, 0.9, ..., 0. , 0.1, 0. ]),\n",
       " array([0, 0, 1, ..., 0, 0, 0]),\n",
       " 0.6706875753920386)"
      ]
     },
     "execution_count": 23,
     "metadata": {},
     "output_type": "execute_result"
    }
   ],
   "source": [
    "#Blood pressure - cluster, RF\n",
    "sk_models.run_rf_model(clean_train_b, clean_test_b, ['label'], list(clean_train_b.drop(['label'],axis=1).columns),\n",
    "          .8)"
   ]
  },
  {
   "cell_type": "code",
   "execution_count": 24,
   "metadata": {},
   "outputs": [
    {
     "data": {
      "text/plain": [
       "(array([0.35631681, 0.30568573, 0.34700632, ..., 0.34082463, 0.32976864,\n",
       "        0.36958249]), array([0, 0, 0, ..., 0, 0, 0]), 0.6559107358262968)"
      ]
     },
     "execution_count": 24,
     "metadata": {},
     "output_type": "execute_result"
    }
   ],
   "source": [
    "#Blood pressure - cluster, SVC\n",
    "sk_models.run_SVC_model(clean_train_b, clean_test_b, ['label'], list(clean_train_b.drop(['label'],axis=1).columns),\n",
    "          .8)"
   ]
  },
  {
   "cell_type": "code",
   "execution_count": 25,
   "metadata": {},
   "outputs": [
    {
     "data": {
      "text/plain": [
       "0.6559107358262968"
      ]
     },
     "execution_count": 25,
     "metadata": {},
     "output_type": "execute_result"
    }
   ],
   "source": [
    "#Blood pressure - cluster, stump decision tree\n",
    "tree, accuracy_t = sk_models.run_DT_model(clean_train_b, clean_test_b, ['label'], list(clean_train_b.drop(['label'],axis=1).columns),\n",
    "          .8)\n",
    "\n",
    "accuracy_t"
   ]
  },
  {
   "cell_type": "code",
   "execution_count": 26,
   "metadata": {},
   "outputs": [
    {
     "data": {
      "image/png": "[encoded data removed]",
      "text/plain": [
       "<IPython.core.display.Image object>"
      ]
     },
     "execution_count": 26,
     "metadata": {},
     "output_type": "execute_result"
    }
   ],
   "source": [
    "#Print tree\n",
    "col_names = list(clean_train_b.drop(columns=['label']).columns)\n",
    "dot_data = StringIO()\n",
    "export_graphviz(tree, out_file=dot_data, feature_names=col_names, special_characters=True)\n",
    "graph = pydotplus.graph_from_dot_data(dot_data.getvalue())  \n",
    "graph.write_png('stump_2.png')\n",
    "Image('stump_2.png')"
   ]
  },
  {
   "cell_type": "code",
   "execution_count": 27,
   "metadata": {},
   "outputs": [
    {
     "data": {
      "text/plain": [
       "(array([0.8, 0.1, 0.9, ..., 0.4, 0.2, 0.7]),\n",
       " array([0, 0, 1, ..., 0, 0, 0]),\n",
       " 0.830518697225573)"
      ]
     },
     "execution_count": 27,
     "metadata": {},
     "output_type": "execute_result"
    }
   ],
   "source": [
    "#Blood pressure - PCA, RF\n",
    "sk_models.run_rf_model(clean_train_b_pca, clean_test_b_pca, ['label'], \n",
    "                       list(clean_train_b_pca.drop(['label'],axis=1).columns),.8)"
   ]
  },
  {
   "cell_type": "code",
   "execution_count": 28,
   "metadata": {},
   "outputs": [
    {
     "data": {
      "text/plain": [
       "(array([0.36448158, 0.26088641, 0.41409985, ..., 0.3319494 , 0.2997199 ,\n",
       "        0.36926163]), array([0, 0, 0, ..., 0, 0, 0]), 0.6559107358262968)"
      ]
     },
     "execution_count": 28,
     "metadata": {},
     "output_type": "execute_result"
    }
   ],
   "source": [
    "#Blood pressure - PCA , SVC\n",
    "sk_models.run_SVC_model(clean_train_b_pca, clean_test_b_pca, ['label'], \n",
    "                        list(clean_train_b_pca.drop(['label'],axis=1).columns),.8)"
   ]
  },
  {
   "cell_type": "code",
   "execution_count": 29,
   "metadata": {},
   "outputs": [
    {
     "data": {
      "text/plain": [
       "0.6559107358262968"
      ]
     },
     "execution_count": 29,
     "metadata": {},
     "output_type": "execute_result"
    }
   ],
   "source": [
    "#Blood pressure - cluster, stump decision tree\n",
    "tree_b_pca, accuracy_t_pca = sk_models.run_DT_model(clean_train_b_pca, clean_test_b_pca, ['label'], \n",
    "                                          list(clean_train_b_pca.drop(['label'],axis=1).columns),.8)\n",
    "\n",
    "accuracy_t_pca"
   ]
  },
  {
   "cell_type": "code",
   "execution_count": 30,
   "metadata": {},
   "outputs": [
    {
     "data": {
      "image/png": "[encoded data removed]",
      "text/plain": [
       "<IPython.core.display.Image object>"
      ]
     },
     "execution_count": 30,
     "metadata": {},
     "output_type": "execute_result"
    }
   ],
   "source": [
    "#Print tree\n",
    "col_names = list(clean_train_b_pca.drop(columns=['label']).columns)\n",
    "dot_data = StringIO()\n",
    "export_graphviz(tree_b_pca, out_file=dot_data, feature_names=col_names, special_characters=True)\n",
    "graph = pydotplus.graph_from_dot_data(dot_data.getvalue())  \n",
    "graph.write_png('stump_3.png')\n",
    "Image('stump_3.png')"
   ]
  },
  {
   "cell_type": "code",
   "execution_count": null,
   "metadata": {},
   "outputs": [],
   "source": []
  }
 ],
 "metadata": {
  "kernelspec": {
   "display_name": "Python 3",
   "language": "python",
   "name": "python3"
  },
  "language_info": {
   "codemirror_mode": {
    "name": "ipython",
    "version": 3
   },
   "file_extension": ".py",
   "mimetype": "text/x-python",
   "name": "python",
   "nbconvert_exporter": "python",
   "pygments_lexer": "ipython3",
   "version": "3.7.3"
  }
 },
 "nbformat": 4,
 "nbformat_minor": 2
}
