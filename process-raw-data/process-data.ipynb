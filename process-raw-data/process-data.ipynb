{
 "cells": [
  {
   "cell_type": "code",
   "execution_count": 1,
   "metadata": {},
   "outputs": [],
   "source": [
    "import pandas as pd\n",
    "import numpy as np\n",
    "import glob\n",
    "import functools\n",
    "\n",
    "pd.set_option('display.max_rows', 500)\n",
    "pd.set_option('display.max_columns', 500)"
   ]
  },
  {
   "cell_type": "code",
   "execution_count": 2,
   "metadata": {},
   "outputs": [],
   "source": [
    "RAW_FILE = 'NHANES-varnames_raw.xlsx'\n",
    "NO_FLAG_FILE = 'NHANES-varnames_noflag.csv'\n",
    "YES_FLAG_FILE = 'NHANES-varnames_yesflag.csv'\n",
    "CLEAN_FILE = 'NHANES-clean.csv'\n",
    "MISSING_FILE = 'NHANES-missing.csv'\n",
    "\n",
    "COMPONENTS = ['Laboratory', 'Demographics', 'Questionnaire', 'Dietary', 'Examination']\n",
    "YEARS = list(range(2003, 2016, 2))"
   ]
  },
  {
   "cell_type": "code",
   "execution_count": 3,
   "metadata": {},
   "outputs": [],
   "source": [
    "# read raw file and append sheets \n",
    "no_flag_df = pd.DataFrame()\n",
    "for c in COMPONENTS: \n",
    "    df = pd.read_excel(RAW_FILE, sheet_name = c)\n",
    "    no_flag_df = no_flag_df.append(df)\n",
    "    \n",
    "# create year flags \n",
    "def var_in_year(row, year): \n",
    "    if (row['Begin Year'] <= year) & (row['EndYear'] >= year): \n",
    "        return 1\n",
    "    return 0 \n",
    "\n",
    "for y in YEARS: \n",
    "    v = 'flag_' + str(y)\n",
    "    no_flag_df[v] = no_flag_df.apply(var_in_year, year = y, axis = 1)\n",
    "    \n",
    "flags = [col for col in no_flag_df if col.startswith('flag_')]\n",
    "no_flag_df = (no_flag_df\n",
    "              .groupby(['Variable Name', 'Variable Description', 'Component', 'Data File Description'])[flags]\n",
    "              .sum(axis = 1)\n",
    "              .reset_index())\n",
    "\n",
    "for y in YEARS: \n",
    "    v = 'flag_' + str(y)\n",
    "    no_flag_df[v] = np.where(no_flag_df[v] == 0, 0, 1)\n",
    "\n",
    "# write to csv\n",
    "no_flag_df.to_csv(NO_FLAG_FILE, index = False)"
   ]
  },
  {
   "cell_type": "code",
   "execution_count": 5,
   "metadata": {
    "scrolled": false
   },
   "outputs": [],
   "source": [
    "# get list of variables to keep \n",
    "yes_flag_df = pd.read_csv(YES_FLAG_FILE)\n",
    "keep_vars = (yes_flag_df[yes_flag_df['keep'] == 1]['Variable Name']\n",
    "             .unique()\n",
    "             .tolist())\n",
    "keep_vars.append('SEQN')\n",
    "keep_vars = set(keep_vars)\n",
    "\n",
    "# loop over all years and components \n",
    "full_df_list = []\n",
    "for y in YEARS:\n",
    "    year_df_list = []\n",
    "    for c in COMPONENTS: \n",
    "        path = 'csv_data/' + str(y) + '-' + str(y+1) + '/' + c + '/*.csv'\n",
    "        for f in glob.iglob(path):\n",
    "            df = pd.read_csv(f)\n",
    "            if 'SEQN' not in df.columns: \n",
    "                continue\n",
    "            df = df[df.columns[df.columns.isin(keep_vars)]]\n",
    "            if df.shape[1] > 1: \n",
    "                year_df_list.append(df)\n",
    "                \n",
    "    # merge (wide) within each year\n",
    "    year_df = (functools.reduce(\n",
    "        lambda df1, df2: pd.merge(df1, df2, on = 'SEQN', how = 'outer'), year_df_list)\n",
    "               .drop_duplicates(subset = 'SEQN'))\n",
    "    year_df['year'] = str(y) + '-' + str(y+1)\n",
    "    year_df = year_df.loc[:,~year_df.columns.duplicated()]\n",
    "    full_df_list.append(year_df)\n",
    "\n",
    "# append (long) across years \n",
    "clean_df = pd.concat(full_df_list, axis = 0, sort = True)\n",
    "\n",
    "# limit to usual \n",
    "clean_df = clean_df[clean_df['DR1_300'] + clean_df['DR1_300'] == 2]\n",
    "\n",
    "# limit to high-recall \n",
    "clean_df = clean_df[clean_df['DR1DRSTZ_x'] + clean_df['DR1DRSTZ_y'] == 2]\n",
    "\n",
    "# drop children \n",
    "\n",
    "# write to csv\n",
    "clean_df = clean_df.drop(columns = ['DR1_300', \n",
    "                                    'DR2_300', \n",
    "                                    'DR1DRSTZ_x', \n",
    "                                    'DR1DRSTZ_y', \n",
    "                                    'DR2DRSTZ_x', \n",
    "                                    'DR2DRSTZ_y'])\n",
    "clean_df = clean_df[ ['year', 'SEQN'] + [ col for col in clean_df.columns if col not in ['year', 'SEQN'] ] ]\n",
    "clean_df.to_csv(CLEAN_FILE, index = False)"
   ]
  },
  {
   "cell_type": "code",
   "execution_count": 4,
   "metadata": {},
   "outputs": [],
   "source": []
  }
 ],
 "metadata": {
  "kernelspec": {
   "display_name": "Python 3",
   "language": "python",
   "name": "python3"
  },
  "language_info": {
   "codemirror_mode": {
    "name": "ipython",
    "version": 3
   },
   "file_extension": ".py",
   "mimetype": "text/x-python",
   "name": "python",
   "nbconvert_exporter": "python",
   "pygments_lexer": "ipython3",
   "version": "3.7.3"
  }
 },
 "nbformat": 4,
 "nbformat_minor": 2
}
