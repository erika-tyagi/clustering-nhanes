{
 "cells": [
  {
   "cell_type": "markdown",
   "metadata": {},
   "source": [
    "# Supervised learning leveraging cluster outcomes"
   ]
  },
  {
   "cell_type": "markdown",
   "metadata": {},
   "source": [
    "## Load the data and import pipeline package "
   ]
  },
  {
   "cell_type": "code",
   "execution_count": 1,
   "metadata": {},
   "outputs": [],
   "source": [
    "import pandas as pd\n",
    "import sklearn\n",
    "from sklearn.ensemble import RandomForestClassifier\n",
    "import warnings\n",
    "import matplotlib.pyplot as plt\n",
    "import numpy as np\n",
    "from sklearn.metrics import accuracy_score\n",
    "from sklearn.svm import SVC\n",
    "from os import path\n",
    "from IPython.display import Image\n",
    "import pipeline\n",
    "from sklearn.externals.six import StringIO\n",
    "from sklearn.tree import export_graphviz\n",
    "import pydotplus\n",
    "from sklearn.tree import DecisionTreeClassifier\n",
    "import sk_models # a script we wrote to run classifiers below + some cleaning functions\n",
    "\n",
    "warnings.simplefilter(\"ignore\")\n",
    "pd.set_option('display.max_columns', None)"
   ]
  },
  {
   "cell_type": "code",
   "execution_count": 4,
   "metadata": {},
   "outputs": [],
   "source": [
    "#This comes from the output of our clustering analysis\n",
    "df = pd.read_csv('../process-raw-data/clustered_data.csv')"
   ]
  },
  {
   "cell_type": "code",
   "execution_count": 5,
   "metadata": {
    "scrolled": false
   },
   "outputs": [
    {
     "data": {
      "text/html": [
       "<div>\n",
       "<style scoped>\n",
       "    .dataframe tbody tr th:only-of-type {\n",
       "        vertical-align: middle;\n",
       "    }\n",
       "\n",
       "    .dataframe tbody tr th {\n",
       "        vertical-align: top;\n",
       "    }\n",
       "\n",
       "    .dataframe thead th {\n",
       "        text-align: right;\n",
       "    }\n",
       "</style>\n",
       "<table border=\"1\" class=\"dataframe\">\n",
       "  <thead>\n",
       "    <tr style=\"text-align: right;\">\n",
       "      <th></th>\n",
       "      <th>year</th>\n",
       "      <th>SEQN</th>\n",
       "      <th>BMXBMI</th>\n",
       "      <th>BPQ020</th>\n",
       "      <th>RIDAGEYR</th>\n",
       "      <th>RIAGENDR</th>\n",
       "      <th>INDFMPIR</th>\n",
       "      <th>RIDRETH1</th>\n",
       "      <th>TKCAL</th>\n",
       "      <th>TPROT</th>\n",
       "      <th>TCARB</th>\n",
       "      <th>TSUGR</th>\n",
       "      <th>TTFAT</th>\n",
       "      <th>PC1</th>\n",
       "      <th>PC2</th>\n",
       "      <th>PC3</th>\n",
       "      <th>PC4</th>\n",
       "      <th>PC5</th>\n",
       "      <th>PC6</th>\n",
       "      <th>PC7</th>\n",
       "      <th>assignment_kmeans</th>\n",
       "    </tr>\n",
       "  </thead>\n",
       "  <tbody>\n",
       "    <tr>\n",
       "      <th>0</th>\n",
       "      <td>2007-2008</td>\n",
       "      <td>41475</td>\n",
       "      <td>58.04</td>\n",
       "      <td>1</td>\n",
       "      <td>62</td>\n",
       "      <td>2</td>\n",
       "      <td>1.83</td>\n",
       "      <td>5</td>\n",
       "      <td>3057</td>\n",
       "      <td>0.04557</td>\n",
       "      <td>0.11406</td>\n",
       "      <td>0.0525</td>\n",
       "      <td>0.041</td>\n",
       "      <td>-0.950799</td>\n",
       "      <td>3.929718</td>\n",
       "      <td>1.721715</td>\n",
       "      <td>1.414614</td>\n",
       "      <td>1.572015</td>\n",
       "      <td>3.699226</td>\n",
       "      <td>0.415132</td>\n",
       "      <td>1</td>\n",
       "    </tr>\n",
       "  </tbody>\n",
       "</table>\n",
       "</div>"
      ],
      "text/plain": [
       "        year   SEQN  BMXBMI  BPQ020  RIDAGEYR  RIAGENDR  INDFMPIR  RIDRETH1  \\\n",
       "0  2007-2008  41475   58.04       1        62         2      1.83         5   \n",
       "\n",
       "   TKCAL    TPROT    TCARB   TSUGR  TTFAT       PC1       PC2       PC3  \\\n",
       "0   3057  0.04557  0.11406  0.0525  0.041 -0.950799  3.929718  1.721715   \n",
       "\n",
       "        PC4       PC5       PC6       PC7  assignment_kmeans  \n",
       "0  1.414614  1.572015  3.699226  0.415132                  1  "
      ]
     },
     "execution_count": 5,
     "metadata": {},
     "output_type": "execute_result"
    }
   ],
   "source": [
    "df.head(1)"
   ]
  },
  {
   "cell_type": "code",
   "execution_count": 6,
   "metadata": {},
   "outputs": [],
   "source": [
    "#Initial exploration\n",
    "#for col in df.columns:\n",
    " #   print(col,\": \", type(col))"
   ]
  },
  {
   "cell_type": "code",
   "execution_count": 7,
   "metadata": {},
   "outputs": [],
   "source": [
    "#Split the data using sklearn's default 80/20\n",
    "(train, test) = sklearn.model_selection.train_test_split(df)"
   ]
  },
  {
   "cell_type": "code",
   "execution_count": 8,
   "metadata": {},
   "outputs": [],
   "source": [
    "#Clean the datasets - updated package + included parameters for this dataset\n",
    "train_1 = train.copy(deep=True)\n",
    "test_1 = test.copy(deep=True)\n",
    "\n",
    "clean_train, clean_test = sk_models.clean_split((train_1, test_1))"
   ]
  },
  {
   "cell_type": "code",
   "execution_count": 9,
   "metadata": {},
   "outputs": [
    {
     "data": {
      "text/plain": [
       "Index(['year', 'SEQN', 'BMXBMI', 'BPQ020', 'RIDAGEYR', 'RIAGENDR', 'INDFMPIR',\n",
       "       'RIDRETH1', 'TKCAL', 'TPROT', 'TCARB', 'TSUGR', 'TTFAT', 'PC1', 'PC2',\n",
       "       'PC3', 'PC4', 'PC5', 'PC6', 'PC7', 'assignment_kmeans'],\n",
       "      dtype='object')"
      ]
     },
     "execution_count": 9,
     "metadata": {},
     "output_type": "execute_result"
    }
   ],
   "source": [
    "train.columns"
   ]
  },
  {
   "cell_type": "code",
   "execution_count": 10,
   "metadata": {},
   "outputs": [
    {
     "data": {
      "text/html": [
       "<div>\n",
       "<style scoped>\n",
       "    .dataframe tbody tr th:only-of-type {\n",
       "        vertical-align: middle;\n",
       "    }\n",
       "\n",
       "    .dataframe tbody tr th {\n",
       "        vertical-align: top;\n",
       "    }\n",
       "\n",
       "    .dataframe thead th {\n",
       "        text-align: right;\n",
       "    }\n",
       "</style>\n",
       "<table border=\"1\" class=\"dataframe\">\n",
       "  <thead>\n",
       "    <tr style=\"text-align: right;\">\n",
       "      <th></th>\n",
       "      <th>cluster_1</th>\n",
       "      <th>has_had_hbp</th>\n",
       "      <th>is_obese</th>\n",
       "      <th>RIDAGEYR_scaled</th>\n",
       "      <th>INDFMPIR_scaled</th>\n",
       "      <th>RIAGENDR_1</th>\n",
       "      <th>RIAGENDR_2</th>\n",
       "      <th>RIDRETH1_1</th>\n",
       "      <th>RIDRETH1_2</th>\n",
       "      <th>RIDRETH1_3</th>\n",
       "      <th>RIDRETH1_4</th>\n",
       "      <th>RIDRETH1_5</th>\n",
       "    </tr>\n",
       "  </thead>\n",
       "  <tbody>\n",
       "    <tr>\n",
       "      <th>4393</th>\n",
       "      <td>0</td>\n",
       "      <td>1</td>\n",
       "      <td>0</td>\n",
       "      <td>1.435626</td>\n",
       "      <td>0.720418</td>\n",
       "      <td>1</td>\n",
       "      <td>0</td>\n",
       "      <td>0</td>\n",
       "      <td>0</td>\n",
       "      <td>1</td>\n",
       "      <td>0</td>\n",
       "      <td>0</td>\n",
       "    </tr>\n",
       "  </tbody>\n",
       "</table>\n",
       "</div>"
      ],
      "text/plain": [
       "      cluster_1  has_had_hbp  is_obese  RIDAGEYR_scaled  INDFMPIR_scaled  \\\n",
       "4393          0            1         0         1.435626         0.720418   \n",
       "\n",
       "      RIAGENDR_1  RIAGENDR_2  RIDRETH1_1  RIDRETH1_2  RIDRETH1_3  RIDRETH1_4  \\\n",
       "4393           1           0           0           0           1           0   \n",
       "\n",
       "      RIDRETH1_5  \n",
       "4393           0  "
      ]
     },
     "execution_count": 10,
     "metadata": {},
     "output_type": "execute_result"
    }
   ],
   "source": [
    "clean_train.head(1)"
   ]
  },
  {
   "cell_type": "code",
   "execution_count": 11,
   "metadata": {},
   "outputs": [
    {
     "data": {
      "text/plain": [
       "Index(['cluster_1', 'has_had_hbp', 'is_obese', 'RIDAGEYR_scaled',\n",
       "       'INDFMPIR_scaled', 'RIAGENDR_1', 'RIAGENDR_2', 'RIDRETH1_1',\n",
       "       'RIDRETH1_2', 'RIDRETH1_3', 'RIDRETH1_4', 'RIDRETH1_5'],\n",
       "      dtype='object')"
      ]
     },
     "execution_count": 11,
     "metadata": {},
     "output_type": "execute_result"
    }
   ],
   "source": [
    "#Checking columns\n",
    "clean_train.columns"
   ]
  },
  {
   "cell_type": "code",
   "execution_count": 12,
   "metadata": {},
   "outputs": [],
   "source": [
    "#First let's grab BMI (obesity) as the output label - drop the vars and make obese the label\n",
    "\n",
    "clean_train['label'] = clean_train['is_obese']\n",
    "clean_train_o = clean_train.drop(['has_had_hbp','is_obese'], axis=1)\n",
    "\n",
    "clean_test['label'] = clean_test['is_obese']\n",
    "clean_test_o = clean_test.drop(['has_had_hbp','is_obese'], axis=1)\n"
   ]
  },
  {
   "cell_type": "code",
   "execution_count": 13,
   "metadata": {},
   "outputs": [],
   "source": [
    "#Now let's grab blood pressure - drop the vars and make high blood pressure the label\n",
    "\n",
    "clean_train['label'] = clean_train['has_had_hbp']\n",
    "clean_train_b = clean_train.drop(['has_had_hbp','is_obese'], axis=1)\n",
    "\n",
    "clean_test['label'] = clean_test['has_had_hbp']\n",
    "clean_test_b = clean_test.drop(['has_had_hbp','is_obese'], axis=1)"
   ]
  },
  {
   "cell_type": "code",
   "execution_count": 14,
   "metadata": {},
   "outputs": [
    {
     "data": {
      "text/plain": [
       "Index(['cluster_1', 'RIDAGEYR_scaled', 'INDFMPIR_scaled', 'RIAGENDR_1',\n",
       "       'RIAGENDR_2', 'RIDRETH1_1', 'RIDRETH1_2', 'RIDRETH1_3', 'RIDRETH1_4',\n",
       "       'RIDRETH1_5', 'label'],\n",
       "      dtype='object')"
      ]
     },
     "execution_count": 14,
     "metadata": {},
     "output_type": "execute_result"
    }
   ],
   "source": [
    "#col_check\n",
    "clean_test_b.columns"
   ]
  },
  {
   "cell_type": "code",
   "execution_count": 15,
   "metadata": {},
   "outputs": [],
   "source": [
    "#Now let's make dfs leveraging components instead of cluster assignments\n",
    "\n",
    "clean_train_pca, clean_test_pca = sk_models.clean_split((train, test), components=True)\n",
    "\n",
    "clean_train_pca['label'] = clean_train_pca['is_obese']\n",
    "clean_train_o_pca = clean_train_pca.drop(['has_had_hbp','is_obese'], axis=1)\n",
    "\n",
    "clean_test_pca['label'] = clean_test_pca['is_obese']\n",
    "clean_test_o_pca = clean_test_pca.drop(['has_had_hbp','is_obese'], axis=1)"
   ]
  },
  {
   "cell_type": "code",
   "execution_count": 16,
   "metadata": {},
   "outputs": [],
   "source": [
    "#Now let's make dfs leveraging components instead of cluster assignments\n",
    "\n",
    "clean_train_pca, clean_test_pca = sk_models.clean_split((train, test), components=True)\n",
    "\n",
    "clean_train_pca['label'] = clean_train_pca['has_had_hbp']\n",
    "clean_train_b_pca = clean_train_pca.drop(['has_had_hbp','is_obese'], axis=1)\n",
    "\n",
    "clean_test_pca['label'] = clean_test_pca['has_had_hbp']\n",
    "clean_test_b_pca = clean_test_pca.drop(['has_had_hbp','is_obese'], axis=1)"
   ]
  },
  {
   "cell_type": "markdown",
   "metadata": {},
   "source": [
    "## Run models for predicting obesity "
   ]
  },
  {
   "cell_type": "code",
   "execution_count": 17,
   "metadata": {},
   "outputs": [],
   "source": [
    "#Define a function to find the best model\n",
    "\n",
    "def find_best_model(output_list):\n",
    "    max_o = 0\n",
    "    best_t = 0\n",
    "    \n",
    "    for o in output_list:\n",
    "        t, accuracy, _ = o\n",
    "        \n",
    "        if accuracy > max_o:\n",
    "            max_o = accuracy\n",
    "            best_t = t\n",
    "    \n",
    "    return best_t, max_o"
   ]
  },
  {
   "cell_type": "code",
   "execution_count": 18,
   "metadata": {},
   "outputs": [],
   "source": [
    "thresholds = [.5, .6, .7, .8, .9, .95, .99]\n",
    "rf_o_outputs = []\n",
    "\n",
    "for t in thresholds:\n",
    "    accuracy, feature_importance = sk_models.run_rf_model(clean_train_o, clean_test_o, ['label'], list(clean_train_o.drop(['label'],axis=1).columns),\n",
    "          t)\n",
    "    rf_o_outputs.append((t, accuracy, feature_importance))"
   ]
  },
  {
   "cell_type": "code",
   "execution_count": 19,
   "metadata": {},
   "outputs": [
    {
     "data": {
      "text/plain": [
       "(0.95, 0.6393244873341375)"
      ]
     },
     "execution_count": 19,
     "metadata": {},
     "output_type": "execute_result"
    }
   ],
   "source": [
    "find_best_model(rf_o_outputs)"
   ]
  },
  {
   "cell_type": "code",
   "execution_count": 20,
   "metadata": {},
   "outputs": [
    {
     "data": {
      "text/plain": [
       "[Text(0, 0, 'RIDRETH1_2'),\n",
       " Text(0, 0, 'RIDRETH1_3'),\n",
       " Text(0, 0, 'RIAGENDR_2'),\n",
       " Text(0, 0, 'RIAGENDR_1'),\n",
       " Text(0, 0, 'RIDRETH1_1'),\n",
       " Text(0, 0, 'RIDRETH1_4'),\n",
       " Text(0, 0, 'RIDRETH1_5'),\n",
       " Text(0, 0, 'cluster_1'),\n",
       " Text(0, 0, 'RIDAGEYR_scaled'),\n",
       " Text(0, 0, 'INDFMPIR_scaled')]"
      ]
     },
     "execution_count": 20,
     "metadata": {},
     "output_type": "execute_result"
    },
    {
     "data": {
      "image/png": "[encoded data removed]",
      "text/plain": [
       "<Figure size 432x288 with 1 Axes>"
      ]
     },
     "metadata": {
      "needs_background": "light"
     },
     "output_type": "display_data"
    }
   ],
   "source": [
    "#display feature imporance for best model:\n",
    "df_1 = rf_o_outputs[5][2].sort_values(by='importance', axis=0, ascending=True)\n",
    "ax = df_1.plot(kind='barh', legend=False, title='Feature Importance')\n",
    "ax.set_yticklabels(df_1['feature'])"
   ]
  },
  {
   "cell_type": "code",
   "execution_count": 21,
   "metadata": {},
   "outputs": [],
   "source": [
    "thresholds = [.5, .6, .7, .8, .9, .95, .99]\n",
    "svc_o_outputs = []\n",
    "\n",
    "for t in thresholds:\n",
    "    accuracy, feature_importance = sk_models.run_SVC_model(clean_train_o, clean_test_o, ['label'], list(clean_train_o.drop(['label'],axis=1).columns),\n",
    "          t)\n",
    "    svc_o_outputs.append((t, accuracy, feature_importance))"
   ]
  },
  {
   "cell_type": "code",
   "execution_count": 22,
   "metadata": {},
   "outputs": [
    {
     "data": {
      "text/plain": [
       "(0.6, 0.6402291917973462)"
      ]
     },
     "execution_count": 22,
     "metadata": {},
     "output_type": "execute_result"
    }
   ],
   "source": [
    "find_best_model(svc_o_outputs)"
   ]
  },
  {
   "cell_type": "code",
   "execution_count": 23,
   "metadata": {
    "scrolled": true
   },
   "outputs": [
    {
     "data": {
      "text/plain": [
       "[<matplotlib.axis.XTick at 0x1a1da43048>,\n",
       " <matplotlib.axis.XTick at 0x1a1da3d9e8>,\n",
       " <matplotlib.axis.XTick at 0x1a1d9b60f0>]"
      ]
     },
     "execution_count": 23,
     "metadata": {},
     "output_type": "execute_result"
    },
    {
     "data": {
      "image/png": "[encoded data removed]",
      "text/plain": [
       "<Figure size 432x288 with 1 Axes>"
      ]
     },
     "metadata": {
      "needs_background": "light"
     },
     "output_type": "display_data"
    }
   ],
   "source": [
    "#display feature imporance for best model:\n",
    "df_2 = svc_o_outputs[0][2]\n",
    "df_2=df_2.iloc[df_2['value'].abs().argsort()]\n",
    "ax = df_2.plot(kind='barh', legend=False, title='Coefficients')\n",
    "ax.set_yticklabels(df_2['coef'])\n",
    "ax.set_xticks([-.0001,0,.0001])"
   ]
  },
  {
   "cell_type": "code",
   "execution_count": 24,
   "metadata": {},
   "outputs": [],
   "source": [
    "#Obesity - using PCA factors, rf\n",
    "\n",
    "rf_o_pca_outputs = []\n",
    "\n",
    "for t in thresholds:\n",
    "    accuracy, feature_importance = sk_models.run_rf_model(clean_train_o_pca, clean_test_o_pca, ['label'], list(clean_train_o_pca.drop(['label'],axis=1).columns),\n",
    "          t)\n",
    "    rf_o_pca_outputs.append((t, accuracy, feature_importance))"
   ]
  },
  {
   "cell_type": "code",
   "execution_count": 25,
   "metadata": {},
   "outputs": [
    {
     "data": {
      "text/plain": [
       "(0.8, 0.6444511459589868)"
      ]
     },
     "execution_count": 25,
     "metadata": {},
     "output_type": "execute_result"
    }
   ],
   "source": [
    "find_best_model(rf_o_pca_outputs)"
   ]
  },
  {
   "cell_type": "code",
   "execution_count": 26,
   "metadata": {},
   "outputs": [
    {
     "data": {
      "text/plain": [
       "[Text(0, 0, 'RIDRETH1_2'),\n",
       " Text(0, 0, 'RIDRETH1_1'),\n",
       " Text(0, 0, 'RIAGENDR_2'),\n",
       " Text(0, 0, 'RIAGENDR_1'),\n",
       " Text(0, 0, 'RIDRETH1_3'),\n",
       " Text(0, 0, 'RIDRETH1_5'),\n",
       " Text(0, 0, 'RIDRETH1_4'),\n",
       " Text(0, 0, 'INDFMPIR_scaled'),\n",
       " Text(0, 0, 'RIDAGEYR_scaled'),\n",
       " Text(0, 0, 'PC4_scaled'),\n",
       " Text(0, 0, 'PC3_scaled'),\n",
       " Text(0, 0, 'PC2_scaled'),\n",
       " Text(0, 0, 'PC5_scaled'),\n",
       " Text(0, 0, 'PC7_scaled'),\n",
       " Text(0, 0, 'PC1_scaled'),\n",
       " Text(0, 0, 'PC6_scaled')]"
      ]
     },
     "execution_count": 26,
     "metadata": {},
     "output_type": "execute_result"
    },
    {
     "data": {
      "image/png": "[encoded data removed]",
      "text/plain": [
       "<Figure size 432x288 with 1 Axes>"
      ]
     },
     "metadata": {
      "needs_background": "light"
     },
     "output_type": "display_data"
    }
   ],
   "source": [
    "#display feature imporance for best model:\n",
    "df_3 = rf_o_pca_outputs[3][2].sort_values(by='importance', axis=0, ascending=True)\n",
    "ax = df_3.plot(kind='barh', legend=False, title='Feature Importance')\n",
    "ax.set_yticklabels(df_3['feature'])"
   ]
  },
  {
   "cell_type": "code",
   "execution_count": 27,
   "metadata": {},
   "outputs": [],
   "source": [
    "#Obesity - using PCA factors, SVC\n",
    "svc_o_pca_outputs = []\n",
    "\n",
    "for t in thresholds:\n",
    "    accuracy, feature_importance = sk_models.run_SVC_model(clean_train_o_pca, clean_test_o_pca, ['label'], list(clean_train_o_pca.drop(['label'],axis=1).columns),\n",
    "          t)\n",
    "    svc_o_pca_outputs.append((t, accuracy, feature_importance))"
   ]
  },
  {
   "cell_type": "code",
   "execution_count": 28,
   "metadata": {},
   "outputs": [
    {
     "data": {
      "text/plain": [
       "(0.6, 0.6396260554885405)"
      ]
     },
     "execution_count": 28,
     "metadata": {},
     "output_type": "execute_result"
    }
   ],
   "source": [
    "find_best_model(svc_o_pca_outputs)"
   ]
  },
  {
   "cell_type": "code",
   "execution_count": 29,
   "metadata": {},
   "outputs": [
    {
     "data": {
      "text/plain": [
       "[<matplotlib.axis.XTick at 0x1a1da25080>,\n",
       " <matplotlib.axis.XTick at 0x1a1da22940>,\n",
       " <matplotlib.axis.XTick at 0x1a1e615358>]"
      ]
     },
     "execution_count": 29,
     "metadata": {},
     "output_type": "execute_result"
    },
    {
     "data": {
      "image/png": "[encoded data removed]",
      "text/plain": [
       "<Figure size 432x288 with 1 Axes>"
      ]
     },
     "metadata": {
      "needs_background": "light"
     },
     "output_type": "display_data"
    }
   ],
   "source": [
    "#display feature imporance for best model:\n",
    "df_4 = svc_o_pca_outputs[1][2]\n",
    "df_4=df_4.iloc[df_4['value'].abs().argsort()]\n",
    "ax = df_4.plot(kind='barh', legend=False, title='Coefficients')\n",
    "ax.set_yticklabels(df_4['coef'])\n",
    "ax.set_xticks([-.0001,0,.0001])"
   ]
  },
  {
   "cell_type": "markdown",
   "metadata": {},
   "source": [
    "## Run models for predicting high blood pressure"
   ]
  },
  {
   "cell_type": "code",
   "execution_count": 30,
   "metadata": {},
   "outputs": [],
   "source": [
    "#Blood pressure - cluster, RF\n",
    "rf_b_outputs = []\n",
    "\n",
    "for t in thresholds:\n",
    "    accuracy, feature_importance = sk_models.run_rf_model(clean_train_b, clean_test_b, ['label'], list(clean_train_b.drop(['label'],axis=1).columns),\n",
    "          t)\n",
    "    rf_b_outputs.append((t, accuracy, feature_importance))"
   ]
  },
  {
   "cell_type": "code",
   "execution_count": 31,
   "metadata": {},
   "outputs": [
    {
     "data": {
      "text/plain": [
       "(0.5, 0.7044632086851629)"
      ]
     },
     "execution_count": 31,
     "metadata": {},
     "output_type": "execute_result"
    }
   ],
   "source": [
    "find_best_model(rf_b_outputs)"
   ]
  },
  {
   "cell_type": "code",
   "execution_count": 32,
   "metadata": {},
   "outputs": [
    {
     "data": {
      "text/plain": [
       "[Text(0, 0, 'RIAGENDR_1'),\n",
       " Text(0, 0, 'RIDRETH1_5'),\n",
       " Text(0, 0, 'RIDRETH1_1'),\n",
       " Text(0, 0, 'RIDRETH1_2'),\n",
       " Text(0, 0, 'RIAGENDR_2'),\n",
       " Text(0, 0, 'RIDRETH1_3'),\n",
       " Text(0, 0, 'RIDRETH1_4'),\n",
       " Text(0, 0, 'cluster_1'),\n",
       " Text(0, 0, 'INDFMPIR_scaled'),\n",
       " Text(0, 0, 'RIDAGEYR_scaled')]"
      ]
     },
     "execution_count": 32,
     "metadata": {},
     "output_type": "execute_result"
    },
    {
     "data": {
      "image/png": "[encoded data removed]",
      "text/plain": [
       "<Figure size 432x288 with 1 Axes>"
      ]
     },
     "metadata": {
      "needs_background": "light"
     },
     "output_type": "display_data"
    }
   ],
   "source": [
    "df_5 = rf_b_outputs[0][2].sort_values(by='importance', axis=0, ascending=True)\n",
    "ax = df_5.plot(kind='barh', legend=False, title='Feature Importance')\n",
    "ax.set_yticklabels(df_5['feature'])"
   ]
  },
  {
   "cell_type": "code",
   "execution_count": 33,
   "metadata": {},
   "outputs": [],
   "source": [
    "#Blood pressure - cluster, SVC\n",
    "svc_b_outputs = []\n",
    "\n",
    "for t in thresholds:\n",
    "    accuracy, feature_importance = sk_models.run_SVC_model(clean_train_b, clean_test_b, ['label'], list(clean_train_b.drop(['label'],axis=1).columns),\n",
    "          t)\n",
    "    svc_b_outputs.append((t, accuracy, feature_importance))"
   ]
  },
  {
   "cell_type": "code",
   "execution_count": 34,
   "metadata": {},
   "outputs": [
    {
     "data": {
      "text/plain": [
       "(0.5, 0.7322074788902292)"
      ]
     },
     "execution_count": 34,
     "metadata": {},
     "output_type": "execute_result"
    }
   ],
   "source": [
    "find_best_model(svc_b_outputs)"
   ]
  },
  {
   "cell_type": "code",
   "execution_count": 35,
   "metadata": {},
   "outputs": [
    {
     "data": {
      "text/plain": [
       "[<matplotlib.axis.XTick at 0x1a1e4f6550>,\n",
       " <matplotlib.axis.XTick at 0x1a1e4f0ef0>,\n",
       " <matplotlib.axis.XTick at 0x1a1e562588>,\n",
       " <matplotlib.axis.XTick at 0x1a1e562978>,\n",
       " <matplotlib.axis.XTick at 0x1a1e56b160>,\n",
       " <matplotlib.axis.XTick at 0x1a1e56b5f8>]"
      ]
     },
     "execution_count": 35,
     "metadata": {},
     "output_type": "execute_result"
    },
    {
     "data": {
      "image/png": "[encoded data removed]",
      "text/plain": [
       "<Figure size 432x288 with 1 Axes>"
      ]
     },
     "metadata": {
      "needs_background": "light"
     },
     "output_type": "display_data"
    }
   ],
   "source": [
    "#display feature imporance for best model:\n",
    "df_6 = svc_b_outputs[0][2]\n",
    "df_6=df_6.iloc[df_6['value'].abs().argsort()]\n",
    "ax = df_6.plot(kind='barh', legend=False, title='Coefficients')\n",
    "ax.set_yticklabels(df_6['coef'])\n",
    "ax.set_xticks([-.2,0,.2,.4,.6,.8])"
   ]
  },
  {
   "cell_type": "code",
   "execution_count": 36,
   "metadata": {},
   "outputs": [],
   "source": [
    "#Blood pressure - RF, SVC\n",
    "rf_b_pca_outputs = []\n",
    "\n",
    "for t in thresholds:\n",
    "    accuracy, feature_importance = sk_models.run_rf_model(clean_train_b_pca, clean_test_b_pca, ['label'], list(clean_train_b_pca.drop(['label'],axis=1).columns),\n",
    "          t)\n",
    "    rf_b_pca_outputs.append((t, accuracy, feature_importance))"
   ]
  },
  {
   "cell_type": "code",
   "execution_count": 37,
   "metadata": {
    "scrolled": true
   },
   "outputs": [
    {
     "data": {
      "text/plain": [
       "(0.5, 0.7029553679131484)"
      ]
     },
     "execution_count": 37,
     "metadata": {},
     "output_type": "execute_result"
    }
   ],
   "source": [
    "find_best_model(rf_b_pca_outputs)"
   ]
  },
  {
   "cell_type": "code",
   "execution_count": 38,
   "metadata": {},
   "outputs": [
    {
     "data": {
      "text/plain": [
       "[Text(0, 0, 'RIDRETH1_2'),\n",
       " Text(0, 0, 'RIDRETH1_5'),\n",
       " Text(0, 0, 'RIDRETH1_1'),\n",
       " Text(0, 0, 'RIDRETH1_3'),\n",
       " Text(0, 0, 'RIAGENDR_2'),\n",
       " Text(0, 0, 'RIDRETH1_4'),\n",
       " Text(0, 0, 'RIAGENDR_1'),\n",
       " Text(0, 0, 'INDFMPIR_scaled'),\n",
       " Text(0, 0, 'PC3_scaled'),\n",
       " Text(0, 0, 'PC4_scaled'),\n",
       " Text(0, 0, 'PC5_scaled'),\n",
       " Text(0, 0, 'PC7_scaled'),\n",
       " Text(0, 0, 'PC1_scaled'),\n",
       " Text(0, 0, 'PC6_scaled'),\n",
       " Text(0, 0, 'PC2_scaled'),\n",
       " Text(0, 0, 'RIDAGEYR_scaled')]"
      ]
     },
     "execution_count": 38,
     "metadata": {},
     "output_type": "execute_result"
    },
    {
     "data": {
      "image/png": "[encoded data removed]",
      "text/plain": [
       "<Figure size 432x288 with 1 Axes>"
      ]
     },
     "metadata": {
      "needs_background": "light"
     },
     "output_type": "display_data"
    }
   ],
   "source": [
    "df_7 = rf_b_pca_outputs[0][2].sort_values(by='importance', axis=0, ascending=True)\n",
    "ax = df_7.plot(kind='barh', legend=False, title='Feature Importance')\n",
    "ax.set_yticklabels(df_7['feature'])"
   ]
  },
  {
   "cell_type": "code",
   "execution_count": 39,
   "metadata": {},
   "outputs": [],
   "source": [
    "#Blood pressure - PCA, SVC\n",
    "svc_b_pca_outputs = []\n",
    "\n",
    "for t in thresholds:\n",
    "    accuracy, feature_importance = sk_models.run_SVC_model(clean_train_b_pca, clean_test_b_pca, ['label'], list(clean_train_b_pca.drop(['label'],axis=1).columns),\n",
    "          t)\n",
    "    svc_b_pca_outputs.append((t, accuracy, feature_importance))"
   ]
  },
  {
   "cell_type": "code",
   "execution_count": 40,
   "metadata": {},
   "outputs": [
    {
     "data": {
      "text/plain": [
       "(0.5, 0.7276839565741857)"
      ]
     },
     "execution_count": 40,
     "metadata": {},
     "output_type": "execute_result"
    }
   ],
   "source": [
    "find_best_model(svc_b_pca_outputs)"
   ]
  },
  {
   "cell_type": "code",
   "execution_count": 41,
   "metadata": {},
   "outputs": [
    {
     "data": {
      "text/plain": [
       "[<matplotlib.axis.XTick at 0x1a1e6f6e48>,\n",
       " <matplotlib.axis.XTick at 0x1a1e6f67f0>,\n",
       " <matplotlib.axis.XTick at 0x1a1e7055f8>,\n",
       " <matplotlib.axis.XTick at 0x1a1e6fc780>,\n",
       " <matplotlib.axis.XTick at 0x1a1e70cc88>,\n",
       " <matplotlib.axis.XTick at 0x1a1e70ce80>]"
      ]
     },
     "execution_count": 41,
     "metadata": {},
     "output_type": "execute_result"
    },
    {
     "data": {
      "image/png": "[encoded data removed]",
      "text/plain": [
       "<Figure size 432x288 with 1 Axes>"
      ]
     },
     "metadata": {
      "needs_background": "light"
     },
     "output_type": "display_data"
    }
   ],
   "source": [
    "df_8 = svc_b_pca_outputs[0][2]\n",
    "df_8=df_8.iloc[df_8['value'].abs().argsort()]\n",
    "ax = df_8.plot(kind='barh', legend=False, title='Coefficients')\n",
    "ax.set_yticklabels(df_8['coef'])\n",
    "ax.set_xticks([-.2,0,.2,.4,.6,.8])"
   ]
  },
  {
   "cell_type": "code",
   "execution_count": null,
   "metadata": {},
   "outputs": [],
   "source": []
  },
  {
   "cell_type": "code",
   "execution_count": null,
   "metadata": {},
   "outputs": [],
   "source": []
  }
 ],
 "metadata": {
  "kernelspec": {
   "display_name": "Python 3",
   "language": "python",
   "name": "python3"
  },
  "language_info": {
   "codemirror_mode": {
    "name": "ipython",
    "version": 3
   },
   "file_extension": ".py",
   "mimetype": "text/x-python",
   "name": "python",
   "nbconvert_exporter": "python",
   "pygments_lexer": "ipython3",
   "version": "3.7.3"
  }
 },
 "nbformat": 4,
 "nbformat_minor": 2
}
